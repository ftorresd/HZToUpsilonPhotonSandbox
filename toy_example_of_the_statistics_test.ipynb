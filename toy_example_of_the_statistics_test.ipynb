{
 "cells": [
  {
   "cell_type": "code",
   "execution_count": 1,
   "metadata": {},
   "outputs": [
    {
     "name": "stdout",
     "output_type": "stream",
     "text": [
      "Welcome to JupyROOT 6.18/04\n"
     ]
    }
   ],
   "source": [
    "import sys\n",
    "sys.path.insert(0, \"/home/des01/vitiello/ftaraujo/miniconda3/lib/python3.7/site-packages\")\n",
    "import ROOT"
   ]
  },
  {
   "cell_type": "code",
   "execution_count": 2,
   "metadata": {},
   "outputs": [],
   "source": [
    "c1 = ROOT.TCanvas()"
   ]
  },
  {
   "cell_type": "code",
   "execution_count": 9,
   "metadata": {
    "scrolled": false
   },
   "outputs": [
    {
     "name": "stdout",
     "output_type": "stream",
     "text": [
      "--> 0th order:\n",
      "p0: 0.05139313662590017\n",
      "--> 1st order:\n",
      "p0: 0.028691482419404002\n",
      "p1: 1.0369299018891338\n",
      "--> 2nd order:\n",
      "p0: 0.06293247233776278\n",
      "p1: 0.798908993882399\n",
      "p2: 1.839832400067859\n",
      "--> 3rd order:\n",
      "p0: 0.24862822880970248\n",
      "p1: 0.009014174670244901\n",
      "p2: 3.183109288902081\n",
      "p3: 2.4238492253416744\n",
      "--> 4th order:\n",
      "p0: 0.35793105102334855\n",
      "p1: 7.423515691051819e-08\n",
      "p2: 3.0037476560493936\n",
      "p3: 3.5717828960408142\n",
      "p4: 3.854433260464182\n",
      "[#1] INFO:Minization -- RooMinimizer::optimizeConst: activating const optimization\n",
      "[#1] INFO:Minization -- RooMinimizer::optimizeConst: deactivating const optimization\n",
      "[#1] INFO:Minization -- RooMinimizer::optimizeConst: activating const optimization\n",
      "[#1] INFO:Minization -- RooMinimizer::optimizeConst: deactivating const optimization\n",
      "[#1] INFO:Minization -- RooMinimizer::optimizeConst: activating const optimization\n",
      "[#1] INFO:Minization -- RooMinimizer::optimizeConst: deactivating const optimization\n",
      "[#1] INFO:Minization -- RooMinimizer::optimizeConst: activating const optimization\n",
      "[#1] INFO:Minization -- RooMinimizer::optimizeConst: deactivating const optimization\n",
      "[#1] INFO:Minization -- RooMinimizer::optimizeConst: activating const optimization\n",
      "[#1] INFO:Minization -- RooMinimizer::optimizeConst: deactivating const optimization\n"
     ]
    },
    {
     "data": {
      "image/png": "[encoded data removed]",
      "text/plain": [
       "<IPython.core.display.Image object>"
      ]
     },
     "metadata": {},
     "output_type": "display_data"
    }
   ],
   "source": [
    "x = ROOT.RooRealVar(\"x\",\"x\",-10,10)\n",
    "p0_ = ROOT.RooRealVar(\"p0_\",\"v\",0.5,0,10)\n",
    "p1_ = ROOT.RooRealVar(\"p1_\",\"v\",1,0,10)\n",
    "p2_ = ROOT.RooRealVar(\"p2_\",\"v\",0.5,0,10)\n",
    "p3_ = ROOT.RooRealVar(\"p3_\",\"v\",1,0,10)\n",
    "p4_ = ROOT.RooRealVar(\"p4_\",\"v\",0.5,0,10)\n",
    " \n",
    "    \n",
    "# mean = ROOT.RooRealVar(\"mean\",\"Mean of Gaussian\",-10,10)\n",
    "# sigma = ROOT.RooRealVar(\"sigma\",\"Width of Gaussian\",3,-10,10)\n",
    "\n",
    "# true_model = ROOT.RooBernstein(\"true_model\",\"RooBernstein\",x,ROOT.RooArgList(p0_,p1_,p2_,p3_))\n",
    "# true_model = ROOT.RooGaussian(\"gauss\",\"gauss(x,mean,sigma)\",x,mean,sigma)\n",
    "\n",
    "\n",
    "mean = ROOT.RooRealVar(\"mean\",\"mean\",0,-10,10)\n",
    "sigma = ROOT.RooRealVar(\"sigma\",\"sigma\",2,0.,10)\n",
    "sig = ROOT.RooGaussian(\"sig\",\"signal p.d.f.\",x,mean,sigma)\n",
    "\n",
    "coef0 = ROOT.RooRealVar(\"c0\",\"coefficient #0\",1.0,-1.,1)\n",
    "coef1 = ROOT.RooRealVar(\"c1\",\"coefficient #1\",0.1,-1.,1)\n",
    "coef2 = ROOT.RooRealVar(\"c2\",\"coefficient #2\",-0.1,-1.,1)\n",
    "bkg = ROOT.RooChebychev(\"bkg\",\"background p.d.f.\",x,ROOT.RooArgList(coef0,coef1,coef2))\n",
    "\n",
    "fsig = ROOT.RooRealVar(\"fsig\",\"signal fraction\",0.1,0.,1.)\n",
    "\n",
    "# model(x) = fsig*sig(x) + (1-fsig)*bkg(x)\n",
    "true_model = ROOT.RooAddPdf(\"model\",\"model\",ROOT.RooArgList(sig,bkg),ROOT.RooArgList(fsig))\n",
    "\n",
    "\n",
    "################################################################\n",
    "################################################################\n",
    "################################################################\n",
    "\n",
    "\n",
    "p0 = ROOT.RooRealVar(\"p0\",\"v\",1,0,10)\n",
    "p1 = ROOT.RooRealVar(\"p1\",\"v\",1,0,10)\n",
    "p2 = ROOT.RooRealVar(\"p2\",\"v\",1,0,100)\n",
    "p3 = ROOT.RooRealVar(\"p3\",\"v\",1,0,10)\n",
    "p4 = ROOT.RooRealVar(\"p4\",\"v\",1,0,10)\n",
    "\n",
    "data = true_model.generate(ROOT.RooArgSet(x),100000)\n",
    "\n",
    "xframe = x.frame()\n",
    "data.plotOn(xframe, ROOT.RooLinkedList())\n",
    "true_model.plotOn(xframe,ROOT.RooFit.LineColor(ROOT.kGray))\n",
    "\n",
    "\n",
    "# leg1 = ROOT.TLegend(0.65,0.73,0.86,0.87);\n",
    "leg1 = ROOT.TLegend();\n",
    "# leg1.SetFillColor(ROOT.kWhite);\n",
    "# leg1.SetLineColor(ROOT.kWhite);\n",
    "leg1.AddEntry(data,\"Data\", \"P\");\n",
    "# leg1->AddEntry(“model”,“Signal + background”,“LP”);\n",
    "# leg1->AddEntry(“background”,“Background only”, “LP”);\n",
    "# leg1->AddEntry(“signal only”,“Signal only”, “LP”);\n",
    "\n",
    "\n",
    "p0.setVal(1)\n",
    "p1.setVal(1)\n",
    "p2.setVal(1)\n",
    "p3.setVal(1)\n",
    "p4.setVal(1)\n",
    "pol_0_order = ROOT.RooBernstein(\"pol_0_order\",\"RooBernstein\",x,ROOT.RooArgList(p0))\n",
    "pol_0_order_fit = pol_0_order.fitTo(data,ROOT.RooFit.PrintLevel(-1), ROOT.RooFit.Save())\n",
    "nll_0 = pol_0_order_fit.minNll()\n",
    "pol_0_order.plotOn(xframe,ROOT.RooFit.LineColor(2+0), ROOT.RooFit.Name(\"pol_0_order\"))\n",
    "leg1.AddEntry(xframe.findObject(\"pol_0_order\"),\"0th order\", \"L\");\n",
    "print(\"--> 0th order:\")\n",
    "print(\"p0: \"+str(p0.getVal()))\n",
    "\n",
    "p0.setVal(1)\n",
    "p1.setVal(1)\n",
    "p2.setVal(1)\n",
    "p3.setVal(1)\n",
    "p4.setVal(1)\n",
    "pol_1_order = ROOT.RooBernstein(\"pol_1_order\",\"RooBernstein\",x,ROOT.RooArgList(p0,p1))\n",
    "pol_1_order_fit = pol_1_order.fitTo(data,ROOT.RooFit.PrintLevel(-1), ROOT.RooFit.Save())\n",
    "nll_1 = pol_1_order_fit.minNll()\n",
    "pol_1_order.plotOn(xframe,ROOT.RooFit.LineColor(2+1), ROOT.RooFit.Name(\"pol_1_order\"))\n",
    "leg1.AddEntry(xframe.findObject(\"pol_1_order\"),\"1st order\", \"L\");\n",
    "print(\"--> 1st order:\")\n",
    "print(\"p0: \"+str(p0.getVal()))\n",
    "print(\"p1: \"+str(p1.getVal()))\n",
    "\n",
    "p0.setVal(1)\n",
    "p1.setVal(1)\n",
    "p2.setVal(1)\n",
    "p3.setVal(1)\n",
    "p4.setVal(1)\n",
    "pol_2_order = ROOT.RooBernstein(\"pol_2_order\",\"RooBernstein\",x,ROOT.RooArgList(p0,p1,p2))\n",
    "pol_2_order_fit = pol_2_order.fitTo(data,ROOT.RooFit.PrintLevel(-1), ROOT.RooFit.Save())\n",
    "nll_2 = pol_2_order_fit.minNll()\n",
    "pol_2_order.plotOn(xframe,ROOT.RooFit.LineColor(2+2), ROOT.RooFit.Name(\"pol_2_order\"))\n",
    "leg1.AddEntry(xframe.findObject(\"pol_2_order\"),\"2nd order\", \"L\");\n",
    "print(\"--> 2nd order:\")\n",
    "print(\"p0: \"+str(p0.getVal()))\n",
    "print(\"p1: \"+str(p1.getVal()))\n",
    "print(\"p2: \"+str(p2.getVal()))\n",
    "\n",
    "p0.setVal(1)\n",
    "p1.setVal(1)\n",
    "p2.setVal(1)\n",
    "p3.setVal(1)\n",
    "p4.setVal(1)\n",
    "pol_3_order = ROOT.RooBernstein(\"pol_3_order\",\"RooBernstein\",x,ROOT.RooArgList(p0,p1,p2,p3))\n",
    "pol_3_order_fit = pol_3_order.fitTo(data,ROOT.RooFit.PrintLevel(-1), ROOT.RooFit.Save())\n",
    "nll_3 = pol_3_order_fit.minNll()\n",
    "pol_3_order.plotOn(xframe,ROOT.RooFit.LineColor(2+3), ROOT.RooFit.Name(\"pol_3_order\"))\n",
    "leg1.AddEntry(xframe.findObject(\"pol_3_order\"),\"3rd order\", \"L\");\n",
    "print(\"--> 3rd order:\")\n",
    "print(\"p0: \"+str(p0.getVal()))\n",
    "print(\"p1: \"+str(p1.getVal()))\n",
    "print(\"p2: \"+str(p2.getVal()))\n",
    "print(\"p3: \"+str(p3.getVal()))\n",
    "\n",
    "p0.setVal(1)\n",
    "p1.setVal(1)\n",
    "p2.setVal(1)\n",
    "p3.setVal(1)\n",
    "p4.setVal(1)\n",
    "pol_4_order = ROOT.RooBernstein(\"pol_4_order\",\"RooBernstein\",x,ROOT.RooArgList(p0,p1,p2,p3,p4))\n",
    "pol_4_order_fit = pol_4_order.fitTo(data,ROOT.RooFit.PrintLevel(-1), ROOT.RooFit.Save())\n",
    "nll_4 = pol_4_order_fit.minNll()\n",
    "pol_4_order.plotOn(xframe,ROOT.RooFit.LineColor(2+4), ROOT.RooFit.Name(\"pol_4_order\"))\n",
    "leg1.AddEntry(xframe.findObject(\"pol_4_order\"),\"4th order\", \"L\");\n",
    "print(\"--> 4th order:\")\n",
    "print(\"p0: \"+str(p0.getVal()))\n",
    "print(\"p1: \"+str(p1.getVal()))\n",
    "print(\"p2: \"+str(p2.getVal()))\n",
    "print(\"p3: \"+str(p3.getVal()))\n",
    "print(\"p4: \"+str(p4.getVal()))\n",
    "\n",
    "# data.plotOn(xframe, ROOT.RooLinkedList())\n",
    "xframe.Draw()\n",
    "leg1.Draw()\n",
    "c1.Draw()"
   ]
  },
  {
   "cell_type": "code",
   "execution_count": 10,
   "metadata": {
    "scrolled": false
   },
   "outputs": [],
   "source": [
    "delta_01 = 2*(nll_0 - nll_1)\n",
    "delta_12 = 2*(nll_1 - nll_2)\n",
    "delta_23 = 2*(nll_2 - nll_3)\n",
    "delta_34 = 2*(nll_3 - nll_4)"
   ]
  },
  {
   "cell_type": "code",
   "execution_count": 11,
   "metadata": {},
   "outputs": [
    {
     "name": "stdout",
     "output_type": "stream",
     "text": [
      "36751.13030237891\n",
      "103.59124810714275\n",
      "1331.159108696389\n",
      "165.96120574406814\n"
     ]
    }
   ],
   "source": [
    "print(delta_01)\n",
    "print(delta_12)\n",
    "print(delta_23)\n",
    "print(delta_34)"
   ]
  },
  {
   "cell_type": "code",
   "execution_count": 12,
   "metadata": {},
   "outputs": [
    {
     "name": "stdout",
     "output_type": "stream",
     "text": [
      "p-value 0-1 = 0.0\n",
      "p-value 1-2 = 2.4867326322104273e-24\n",
      "p-value 2-3 = 1.9141312514238566e-291\n",
      "p-value 3-4 = 5.640794661949332e-38\n"
     ]
    }
   ],
   "source": [
    "print(\"p-value 0-1 = \"+str(ROOT.TMath.Prob(delta_01, 1)))\n",
    "print(\"p-value 1-2 = \"+str(ROOT.TMath.Prob(delta_12, 1)))\n",
    "print(\"p-value 2-3 = \"+str(ROOT.TMath.Prob(delta_23, 1)))\n",
    "print(\"p-value 3-4 = \"+str(ROOT.TMath.Prob(delta_34, 1)))"
   ]
  },
  {
   "cell_type": "code",
   "execution_count": null,
   "metadata": {},
   "outputs": [],
   "source": []
  }
 ],
 "metadata": {
  "kernelspec": {
   "display_name": "Python 3",
   "language": "python",
   "name": "python3"
  },
  "language_info": {
   "codemirror_mode": {
    "name": "ipython",
    "version": 3
   },
   "file_extension": ".py",
   "mimetype": "text/x-python",
   "name": "python",
   "nbconvert_exporter": "python",
   "pygments_lexer": "ipython3",
   "version": "3.7.3"
  }
 },
 "nbformat": 4,
 "nbformat_minor": 2
}
